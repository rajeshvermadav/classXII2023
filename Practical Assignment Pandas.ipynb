{
 "cells": [
  {
   "cell_type": "markdown",
   "id": "673349ce",
   "metadata": {},
   "source": [
    "### Import Pandas library"
   ]
  },
  {
   "cell_type": "code",
   "execution_count": null,
   "id": "680ff856",
   "metadata": {},
   "outputs": [],
   "source": []
  },
  {
   "cell_type": "markdown",
   "id": "5242261e",
   "metadata": {},
   "source": [
    "### Read the dataset from this address in a data frame 'users'"
   ]
  },
  {
   "cell_type": "code",
   "execution_count": null,
   "id": "74e93ba9",
   "metadata": {},
   "outputs": [],
   "source": []
  },
  {
   "cell_type": "markdown",
   "id": "29b5c85a",
   "metadata": {},
   "source": [
    "### Display the first 15 entries from 'users'"
   ]
  },
  {
   "cell_type": "code",
   "execution_count": null,
   "id": "307eec86",
   "metadata": {},
   "outputs": [],
   "source": []
  },
  {
   "cell_type": "markdown",
   "id": "295ceda5",
   "metadata": {},
   "source": [
    "### Display the last 10 entries from 'users'"
   ]
  },
  {
   "cell_type": "code",
   "execution_count": null,
   "id": "68a0e4a9",
   "metadata": {},
   "outputs": [],
   "source": []
  },
  {
   "cell_type": "markdown",
   "id": "f8a6565a",
   "metadata": {},
   "source": [
    "### What is the number of observations in the dataset?"
   ]
  },
  {
   "cell_type": "code",
   "execution_count": null,
   "id": "ea31a733",
   "metadata": {},
   "outputs": [],
   "source": []
  },
  {
   "cell_type": "markdown",
   "id": "382a00fb",
   "metadata": {},
   "source": [
    "### What is the number of attributes in the dataset?"
   ]
  },
  {
   "cell_type": "code",
   "execution_count": null,
   "id": "294f1acc",
   "metadata": {},
   "outputs": [],
   "source": []
  },
  {
   "cell_type": "markdown",
   "id": "bfe704b0",
   "metadata": {},
   "source": [
    "### How is the dataset indexed?"
   ]
  },
  {
   "cell_type": "code",
   "execution_count": null,
   "id": "6e4cb47f",
   "metadata": {},
   "outputs": [],
   "source": []
  },
  {
   "cell_type": "markdown",
   "id": "8f4b62d7",
   "metadata": {},
   "source": [
    "### What is the data type of each column?"
   ]
  },
  {
   "cell_type": "code",
   "execution_count": null,
   "id": "aa846981",
   "metadata": {},
   "outputs": [],
   "source": []
  },
  {
   "cell_type": "markdown",
   "id": "3ade160a",
   "metadata": {},
   "source": [
    "### Print only the occupation column"
   ]
  },
  {
   "cell_type": "code",
   "execution_count": null,
   "id": "e6732458",
   "metadata": {},
   "outputs": [],
   "source": []
  },
  {
   "cell_type": "markdown",
   "id": "b19328a8",
   "metadata": {},
   "source": [
    "### How many different occupations are in this dataset?"
   ]
  },
  {
   "cell_type": "code",
   "execution_count": null,
   "id": "f47bca2f",
   "metadata": {},
   "outputs": [],
   "source": []
  },
  {
   "cell_type": "markdown",
   "id": "5932fdf1",
   "metadata": {},
   "source": [
    "### Summarize the DataFrame."
   ]
  },
  {
   "cell_type": "code",
   "execution_count": null,
   "id": "78b45c0a",
   "metadata": {},
   "outputs": [],
   "source": []
  },
  {
   "cell_type": "markdown",
   "id": "eb0d2064",
   "metadata": {},
   "source": [
    "### Summarize the  information of DataFrame."
   ]
  },
  {
   "cell_type": "code",
   "execution_count": null,
   "id": "5150303c",
   "metadata": {},
   "outputs": [],
   "source": []
  },
  {
   "cell_type": "markdown",
   "id": "8601bc80",
   "metadata": {},
   "source": [
    "### Summarize only the occupation column"
   ]
  },
  {
   "cell_type": "code",
   "execution_count": null,
   "id": "544c71b3",
   "metadata": {},
   "outputs": [],
   "source": []
  },
  {
   "cell_type": "markdown",
   "id": "ec01db06",
   "metadata": {},
   "source": [
    "### What is the mean age of users?"
   ]
  },
  {
   "cell_type": "code",
   "execution_count": null,
   "id": "95ffe1c4",
   "metadata": {},
   "outputs": [],
   "source": []
  },
  {
   "cell_type": "markdown",
   "id": "edfd1333",
   "metadata": {},
   "source": [
    "### What is the Maximum age of users?"
   ]
  },
  {
   "cell_type": "code",
   "execution_count": null,
   "id": "abb5a944",
   "metadata": {},
   "outputs": [],
   "source": []
  },
  {
   "cell_type": "markdown",
   "id": "459b6e9c",
   "metadata": {},
   "source": [
    "### What is the minimum age of users?"
   ]
  },
  {
   "cell_type": "code",
   "execution_count": null,
   "id": "daee8742",
   "metadata": {},
   "outputs": [],
   "source": []
  },
  {
   "cell_type": "markdown",
   "id": "d43886b3",
   "metadata": {},
   "source": [
    "### Create a DataFrame of your class by using dictionary of Series with following attributes\n",
    "### Admno,Name,Class,Sec,Eng,IP,Maths"
   ]
  },
  {
   "cell_type": "code",
   "execution_count": null,
   "id": "9d2eb280",
   "metadata": {},
   "outputs": [],
   "source": []
  },
  {
   "cell_type": "markdown",
   "id": "b0f60477",
   "metadata": {},
   "source": [
    "### Add Column Accounts in DataFrame"
   ]
  },
  {
   "cell_type": "code",
   "execution_count": null,
   "id": "f6e4c71b",
   "metadata": {},
   "outputs": [],
   "source": []
  },
  {
   "cell_type": "markdown",
   "id": "05d2cc58",
   "metadata": {},
   "source": [
    "### Delete Column Section from the DataFrame"
   ]
  },
  {
   "cell_type": "code",
   "execution_count": null,
   "id": "3e33a3a0",
   "metadata": {},
   "outputs": [],
   "source": []
  },
  {
   "cell_type": "markdown",
   "id": "18f25cdc",
   "metadata": {},
   "source": [
    "### To display data of columns Name and Class"
   ]
  },
  {
   "cell_type": "code",
   "execution_count": null,
   "id": "73a7a7e6",
   "metadata": {},
   "outputs": [],
   "source": []
  },
  {
   "cell_type": "markdown",
   "id": "14d2e896",
   "metadata": {},
   "source": [
    "### To Access data of DataFrame row wise with all Columns"
   ]
  },
  {
   "cell_type": "code",
   "execution_count": null,
   "id": "00562c0d",
   "metadata": {},
   "outputs": [],
   "source": []
  },
  {
   "cell_type": "markdown",
   "id": "c132b731",
   "metadata": {},
   "source": [
    "### To rename all the columns of DataFrame"
   ]
  },
  {
   "cell_type": "code",
   "execution_count": null,
   "id": "7eaeea8b",
   "metadata": {},
   "outputs": [],
   "source": []
  },
  {
   "cell_type": "markdown",
   "id": "df5eb197",
   "metadata": {},
   "source": [
    "### To Save data of Above DataFrame in School.CSV "
   ]
  },
  {
   "cell_type": "code",
   "execution_count": null,
   "id": "1e739005",
   "metadata": {},
   "outputs": [],
   "source": []
  }
 ],
 "metadata": {
  "kernelspec": {
   "display_name": "Python 3",
   "language": "python",
   "name": "python3"
  },
  "language_info": {
   "codemirror_mode": {
    "name": "ipython",
    "version": 3
   },
   "file_extension": ".py",
   "mimetype": "text/x-python",
   "name": "python",
   "nbconvert_exporter": "python",
   "pygments_lexer": "ipython3",
   "version": "3.8.3"
  }
 },
 "nbformat": 4,
 "nbformat_minor": 5
}
